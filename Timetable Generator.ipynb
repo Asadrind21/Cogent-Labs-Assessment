{
 "cells": [
  {
   "cell_type": "markdown",
   "id": "1040fc79-650e-436a-a57b-7ff4b3d3d6dd",
   "metadata": {},
   "source": [
    "# Timetable Generator Task\n",
    "## Installing Dependencies"
   ]
  },
  {
   "cell_type": "code",
   "execution_count": 5,
   "id": "984c6ecb-7bea-4ed1-8701-dd9b2fd69185",
   "metadata": {},
   "outputs": [
    {
     "name": "stdout",
     "output_type": "stream",
     "text": [
      "Note: you may need to restart the kernel to use updated packages.\n"
     ]
    }
   ],
   "source": [
    "pip install -qU langchain-openai"
   ]
  },
  {
   "cell_type": "markdown",
   "id": "76dae13a-bf01-44d6-a4cf-099f94198ad4",
   "metadata": {},
   "source": [
    "## Inserting OPENAI API KEY"
   ]
  },
  {
   "cell_type": "code",
   "execution_count": 6,
   "id": "75b0b84a-4d55-4c28-83bf-5440780d0bc0",
   "metadata": {},
   "outputs": [
    {
     "name": "stdin",
     "output_type": "stream",
     "text": [
      " ········\n"
     ]
    }
   ],
   "source": [
    "import getpass\n",
    "import os\n",
    "\n",
    "os.environ[\"OPENAI_API_KEY\"] = getpass.getpass()\n",
    "\n",
    "from langchain_openai import ChatOpenAI\n",
    "\n",
    "model = ChatOpenAI(model=\"gpt-4\")"
   ]
  },
  {
   "cell_type": "markdown",
   "id": "08f3dd04-c345-4fa2-a69b-3fe88061ac42",
   "metadata": {},
   "source": [
    "## Creating a LangChain Prompt Template\n",
    "### Prompt + Model + Parser"
   ]
  },
  {
   "cell_type": "code",
   "execution_count": 11,
   "id": "f9b541c0-11a6-4962-9aab-ba3f930863bf",
   "metadata": {},
   "outputs": [
    {
     "data": {
      "text/plain": [
       "\"### Weekly Timetable\\n\\n#### Monday\\n- 7:00-8:00: Morning Routine (Breakfast, Shower, etc.)\\n- 8:00-9:00: Math Study Session (Use visual aids)\\n- 9:00-10:00: History Study Session (Use visual aids)\\n- 10:00-11:00: Break (Walk, Snacks)\\n- 11:00-12:00: English Study Session (Use visual aids)\\n- 12:00-1:00: Lunch Break\\n- 1:00-2:00: SAT Prep\\n- 2:00-3:00: Science Study Session (Use visual aids)\\n- 3:00-4:00: Break (Snacks, Light Activities)\\n- 4:00-6:00: Soccer Practice\\n- 6:00-7:00: Dinner\\n- 7:00-9:00: Free Time (Music, Reading, etc.)\\n- 9:00: Bedtime Routine, Sleep\\n\\n#### Tuesday\\n- 7:00-8:00: Morning Routine\\n- 8:00-10:00: History Study Session (Use visual aids)\\n- 10:00-11:00: Break (Walk, Snacks)\\n- 11:00-1:00: Math Study Session (Use visual aids)\\n- 1:00-2:00: Lunch Break\\n- 2:00-3:00: Art Club\\n- 3:00-4:00: Break (Snacks, Light Activities)\\n- 4:00-5:00: English Study Session (Use visual aids)\\n- 5:00-6:00: SAT Prep\\n- 6:00-7:00: Dinner\\n- 7:00-9:00: Free Time (Music, Reading, etc.)\\n- 9:00: Bedtime Routine, Sleep\\n\\n#### Wednesday\\n- 7:00-8:00: Morning Routine\\n- 8:00-10:00: Math Study Session (Use visual aids)\\n- 10:00-11:00: Break (Walk, Snacks)\\n- 11:00-1:00: History Study Session (Use visual aids)\\n- 1:00-2:00: Lunch Break\\n- 2:00-4:00: Science Study Session (Use visual aids)\\n- 4:00-6:00: Soccer Practice\\n- 6:00-7:00: Dinner\\n- 7:00-9:00: Free Time (Music, Reading, etc.)\\n- 9:00: Bedtime Routine, Sleep\\n\\n#### Thursday\\n- 7:00-8:00: Morning Routine\\n- 8:00-10:00: English Study Session (Use visual aids)\\n- 10:00-11:00: Break (Walk, Snacks)\\n- 11:00-1:00: Math Study Session (Use visual aids)\\n- 1:00-2:00: Lunch Break\\n- 2:00-3:00: History Study Session (Use visual aids)\\n- 3:00-4:00: Break (Snacks, Light Activities)\\n- 4:00-5:00: SAT Prep\\n- 5:00-6:00: Music Lessons\\n- 6:00-7:00: Dinner\\n- 7:00-9:00: Free Time (Music, Reading, etc.)\\n- 9:00: Bedtime Routine, Sleep\\n\\n#### Friday\\n- 7:00-8:00: Morning Routine\\n- 8:00-9:00: Math Study Session (Use visual aids)\\n- 9:00-10:00: History Study Session (Use visual aids)\\n- 10:00-11:00: Break (Walk, Snacks)\\n- 11:00-12:00: English Study Session (Use visual aids)\\n- 12:00-1:00: Lunch Break\\n- 1:00-2:00: SAT Prep\\n- 2:00-3:00: Science Study Session (Use visual aids)\\n- 3:00-4:00: Break (Snacks, Light Activities)\\n- 4:00-6:00: Soccer Practice\\n- 6:00-7:00: Dinner\\n- 7:00-9:00: Free Time (Music, Reading, etc.)\\n- 9:00: Bedtime Routine, Sleep\\n\\n#### Saturday and Sunday\\n- Leisure activities, rest, catch-up sessions if needed, and continue with SAT preparation.\\n\\nTips:\\n- During study sessions, use visual aids such as diagrams, charts, and videos to enhance understanding and retention.\\n- For effective time management, use techniques like Pomodoro (25 mins of focused study followed by a 5 min break).\\n- Practice mindfulness or meditation during breaks to improve focus.\\n- Keep the study area organized and free from distractions.\\n- Stay hydrated and maintain a balanced diet for overall well-being.\\n- Regular physical activity can help with mental alertness and focus.\\n- Use weekends for reviewing the week's work and understanding difficult concepts.\\n\""
      ]
     },
     "execution_count": 11,
     "metadata": {},
     "output_type": "execute_result"
    }
   ],
   "source": [
    "from langchain_core.prompts import ChatPromptTemplate\n",
    "from langchain_core.output_parsers import StrOutputParser\n",
    "\n",
    "system_template = \"\"\"\n",
    "Create a personalized study timetable for a student based on the following detailed information about the student. The study plan should address their academic requirements, preferred learning styles, extracurricular activities, and personal objectives or challenges. Ensure the timetable is all-inclusive and individualized, catering to the student's specific needs.\n",
    "\n",
    "### Student Information:\n",
    "1. Subjects and Academic Performance:\n",
    "   - List of subjects: {subjects}\n",
    "   - Academic performance in each subject: {performance}\n",
    "\n",
    "2. Preferred Learning Styles:\n",
    "   - Preferred learning style (e.g., visual, auditory, kinesthetic): {learning_styles}\n",
    "\n",
    "3. Extracurricular Activities:\n",
    "   - List of extracurricular activities: {activities}\n",
    "   - Schedule for each activity: {activity_schedule}\n",
    "\n",
    "4. Personal Objectives and Challenges:\n",
    "   - Specific academic goals (e.g., preparing for a specific exam): {goals}\n",
    "   - Personal challenges (e.g., overcoming a learning difficulty): {challenges}\n",
    "\n",
    "### Example Student Information:\n",
    "1. Subjects and Academic Performance:\n",
    "   - List of subjects: Math, Science, English, History, Physical Education\n",
    "   - Academic performance in each subject: Math (B), Science (A), English (B+), History (C), Physical Education (A-)\n",
    "\n",
    "2. Preferred Learning Styles:\n",
    "   - Preferred learning style: Visual\n",
    "\n",
    "3. Extracurricular Activities:\n",
    "   - List of extracurricular activities: Soccer, Art Club, Music Lessons\n",
    "   - Schedule for each activity: Soccer (Mon, Wed, Fri 4-6 PM), Art Club (Tue 3-5 PM), Music Lessons (Thu 5-6 PM)\n",
    "\n",
    "4. Personal Objectives and Challenges:\n",
    "   - Specific academic goals: Preparing for the SAT exam\n",
    "   - Personal challenges: Difficulty with time management and staying focused during study sessions\n",
    "\n",
    "### Instructions for Creating the Timetable:\n",
    "1. Analyze the student's academic performance and allocate more study time to subjects where the student needs improvement.\n",
    "2. Incorporate preferred learning styles into the study sessions (e.g., use visual aids for a visual learner).\n",
    "3. Balance study time with extracurricular activities, ensuring the student has enough time for both.\n",
    "4. Include regular breaks to prevent burnout and maintain productivity.\n",
    "5. Address personal objectives by including dedicated time for exam preparation.\n",
    "6. Provide strategies to overcome personal challenges (e.g., time management techniques, focus-enhancing activities).\n",
    "\n",
    "### Generate the Timetable:\n",
    "Based on the student's information and the instructions above, create a detailed weekly timetable that includes study sessions, extracurricular activities, breaks, and any additional activities or strategies to support the student's learning and personal development.\n",
    "\"\"\"\n",
    "\n",
    "\n",
    "prompt_template = ChatPromptTemplate.from_messages(\n",
    "    [(\"system\", system_template), (\"user\", \"{text}\")]\n",
    ")\n",
    "\n",
    "# Example usage\n",
    "student_info = {\n",
    "    \"subjects\": \"Math, Science, English, History, Physical Education\",\n",
    "    \"performance\": \"Math (B), Science (A), English (B+), History (C), Physical Education (A-)\",\n",
    "    \"learning_styles\": \"Visual\",\n",
    "    \"activities\": \"Soccer, Art Club, Music Lessons\",\n",
    "    \"activity_schedule\": \"Soccer (Mon, Wed, Fri 4-6 PM), Art Club (Tue 3-5 PM), Music Lessons (Thu 5-6 PM)\",\n",
    "    \"goals\": \"Preparing for the SAT exam\",\n",
    "    \"challenges\": \"Difficulty with time management and staying focused during study sessions\"\n",
    "}\n",
    "\n",
    "parser = StrOutputParser()\n",
    "\n",
    "chain = prompt_template | model | parser\n",
    "\n",
    "chain.invoke({\"subjects\": student_info['subjects'],\n",
    "        \"performance\": student_info['performance'],\n",
    "        \"learning_styles\": student_info['learning_styles'],\n",
    "        \"activities\": student_info['activities'],\n",
    "        \"activity_schedule\": student_info['activity_schedule'],\n",
    "        \"goals\": student_info['goals'],\n",
    "        \"challenges\": student_info['challenges'], \n",
    "          \"text\": \"Create a personalized student timetable.\"})\n",
    "\n",
    "\n"
   ]
  },
  {
   "cell_type": "code",
   "execution_count": null,
   "id": "c45fd6eb-fdc6-459c-a180-20ece6841c15",
   "metadata": {},
   "outputs": [],
   "source": []
  }
 ],
 "metadata": {
  "kernelspec": {
   "display_name": "Python 3 (ipykernel)",
   "language": "python",
   "name": "python3"
  },
  "language_info": {
   "codemirror_mode": {
    "name": "ipython",
    "version": 3
   },
   "file_extension": ".py",
   "mimetype": "text/x-python",
   "name": "python",
   "nbconvert_exporter": "python",
   "pygments_lexer": "ipython3",
   "version": "3.11.7"
  }
 },
 "nbformat": 4,
 "nbformat_minor": 5
}
