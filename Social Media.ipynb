{
 "cells": [
  {
   "cell_type": "markdown",
   "id": "03c479a5-4283-4f58-b287-f2fde15c7e52",
   "metadata": {},
   "source": [
    "# Social Media Post Generator\n",
    "## Installing Dependencies"
   ]
  },
  {
   "cell_type": "code",
   "execution_count": 26,
   "id": "b98b4330-22e1-4411-b781-f358a2264c33",
   "metadata": {},
   "outputs": [
    {
     "name": "stdout",
     "output_type": "stream",
     "text": [
      "Note: you may need to restart the kernel to use updated packages.\n"
     ]
    }
   ],
   "source": [
    "pip install -qU langchain-openai"
   ]
  },
  {
   "cell_type": "markdown",
   "id": "e0f1b3e9-f908-433f-beed-57e320bcaf1c",
   "metadata": {},
   "source": [
    "## Inserting OPENAI API KEY"
   ]
  },
  {
   "cell_type": "code",
   "execution_count": 28,
   "id": "2806960d-dd6c-4dc3-9597-76073a88e046",
   "metadata": {},
   "outputs": [
    {
     "name": "stdin",
     "output_type": "stream",
     "text": [
      " ········\n"
     ]
    }
   ],
   "source": [
    "import getpass\n",
    "import os\n",
    "\n",
    "os.environ[\"OPENAI_API_KEY\"] = getpass.getpass()\n",
    "\n",
    "from langchain_openai import ChatOpenAI\n",
    "\n",
    "model = ChatOpenAI(model=\"gpt-4\")"
   ]
  },
  {
   "cell_type": "markdown",
   "id": "5444a980-146a-4ec6-bf0d-f772389b8b41",
   "metadata": {},
   "source": [
    "## Creating a LangChain Prompt Template\n",
    "### Prompt + Model + Parser"
   ]
  },
  {
   "cell_type": "code",
   "execution_count": 30,
   "id": "b32b0da5-a7cd-4d34-bead-c98845da9b37",
   "metadata": {},
   "outputs": [
    {
     "data": {
      "text/plain": [
       "\"Did you know that 75% of classroom-style training is forgotten if it's not implemented within 6 days? To overcome this challenge, Sodexo, a global leader in facilities management and food services, partnered with CoachHub to accelerate their leadership development across the APMEA region. \\n\\nHere's what they achieved:\\n🚀 Scalable coaching programs driven by AI and analytics, designed to effectively engage and develop employees across diverse geographic regions.\\n🌏 Improved knowledge retention, enhanced leadership skills, and increased employee engagement across the APMEA region.\\n🌟 Accessible, structured coaching sessions available 24/7, perfect for a hybrid, mobile workforce.\\n🧠 A significant boost in knowledge retention and engagement, thanks to global benchmarking.\\n✅ Rapid implementation with minimal administrative burden. \\n\\nJoin thousands of coachees like Sodexo's Head of FMCG Accounts, Jean Baptiste CALEMARD, on a journey of growth and transformation. Uncover your potential and #ExploreTheGreaterYou: https://bit.ly/3LMxIHg.\""
      ]
     },
     "execution_count": 30,
     "metadata": {},
     "output_type": "execute_result"
    }
   ],
   "source": [
    "from langchain_core.prompts import ChatPromptTemplate\n",
    "from langchain_core.output_parsers import StrOutputParser\n",
    "\n",
    "\n",
    "system_template = \"\"\"\n",
    "Write a professional social media post based on the following questionnaire answers. The post should be similar in tone and style to the given example.\n",
    "\n",
    "Example Post:\n",
    "𝗗𝗶𝗱 𝘆𝗼𝘂 𝗸𝗻𝗼𝘄? 75% of classroom-style training is forgotten if it's not implemented within 6 days after.\n",
    "Discover how Sodexo, a world leader in facilities management and food services, joined forces with CoachHub to accelerate their leadership development across APMEA:\n",
    "🚀 Scalable coaching programs powered by AI and analytics with local support\n",
    "🌎 Access to a diverse pool of 3,500 top certified coaches from around the world\n",
    "🌟 Unlimited, structured coaching sessions and flexibility 24/7 for a hybrid, mobile workforce\n",
    "🧠 Boost knowledge retention and engagement with global benchmarking\n",
    "✅ Quick implementation with low administrative burden\n",
    "Join thousands of coachees like Sodexo's Head of FMCG Accounts, Jean Baptiste CALEMARD, on a journey of growth and transformation to #ExploreTheGreaterYou:\n",
    "https://bit.ly/3LMxIHg\n",
    "\n",
    "Questionnaire Answers:\n",
    "1. Describe the specific case study or transformation story you want to share.\n",
    "Answer: {case_study}\n",
    "2. What challenge or problem was addressed in this case?\n",
    "Answer: {challenge}\n",
    "3. What were the key results or outcomes achieved in this story?\n",
    "Answer: {results}\n",
    "4. Are there any data, quotes, or testimonials that illustrate the impact?\n",
    "Answer: {data}\n",
    "5. Is there a specific call-to-action?\n",
    "Answer: {call_to_action}\n",
    "6. Are there any specific hashtags you’d like to include?\n",
    "Answer: {hashtags}\n",
    "7. Describe your desired tone and style.\n",
    "Answer: {tone}\n",
    "\n",
    "Generate a similar social media post based on the answers above.\n",
    "\"\"\"\n",
    "\n",
    "prompt_template = ChatPromptTemplate.from_messages(\n",
    "    [(\"system\", system_template), (\"user\", \"{text}\")]\n",
    ")\n",
    "\n",
    "# Example usage\n",
    "answers = {\n",
    "    \"case_study\": \"successful collaboration between Sodexo and CoachHub to accelerate leadership development across the APMEA region.\",\n",
    "    \"challenge\": \"The need for scalable leadership development programs that could effectively engage and develop employees across diverse geographic regions, particularly in the Asia Pacific, Middle East, and Africa (APMEA).\",\n",
    "    \"results\": \"The implementation of scalable coaching programs powered by AI and analytics, which led to improved knowledge retention, enhanced leadership skills, and increased employee engagement across the APMEA region.\",\n",
    "    \"data\": \"75% of classroom-style training is forgotten if it's not implemented within 6 days after.\",\n",
    "    \"call_to_action\": \"Join thousands of coachees like Sodexo's Head of FMCG Accounts, Jean Baptiste CALEMARD, on a journey of growth and transformation to explore the greater you.\",\n",
    "    \"hashtags\": \"#ExploreTheGreaterYou\\nhttps://bit.ly/3LMxIHg\",\n",
    "    \"tone\": \"professional and make sure to write the achievements in the form of points.\"\n",
    "}\n",
    "\n",
    "parser = StrOutputParser()\n",
    "\n",
    "chain = prompt_template | model | parser\n",
    "\n",
    "chain.invoke({\"case_study\": answers['case_study'],\n",
    "        \"challenge\": answers['challenge'],\n",
    "        \"results\": answers['results'],\n",
    "        \"data\": answers['data'],\n",
    "        \"call_to_action\": answers['call_to_action'],\n",
    "        \"hashtags\": answers['hashtags'],\n",
    "        \"tone\": answers['tone'], \n",
    "          \"text\": \"Write an engaging social media post.\"})\n",
    "\n",
    "\n"
   ]
  },
  {
   "cell_type": "code",
   "execution_count": null,
   "id": "b4c10a95-a3aa-42e2-a48d-5af1f59c8f0b",
   "metadata": {},
   "outputs": [],
   "source": []
  }
 ],
 "metadata": {
  "kernelspec": {
   "display_name": "Python 3 (ipykernel)",
   "language": "python",
   "name": "python3"
  },
  "language_info": {
   "codemirror_mode": {
    "name": "ipython",
    "version": 3
   },
   "file_extension": ".py",
   "mimetype": "text/x-python",
   "name": "python",
   "nbconvert_exporter": "python",
   "pygments_lexer": "ipython3",
   "version": "3.11.7"
  }
 },
 "nbformat": 4,
 "nbformat_minor": 5
}
